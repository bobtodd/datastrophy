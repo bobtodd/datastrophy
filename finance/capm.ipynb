{
 "cells": [
  {
   "cell_type": "markdown",
   "metadata": {},
   "source": [
    "# The Capital Asset Pricing Model (CAPM)"
   ]
  },
  {
   "cell_type": "markdown",
   "metadata": {},
   "source": [
    "## Terms"
   ]
  },
  {
   "cell_type": "markdown",
   "metadata": {},
   "source": [
    "###Portfolios\n",
    "\n",
    "Suppose we have some assets $a_1, \\ldots, a_n$, where asset $a_i$ has value $V_{i, t_0}$ at time $t_0$.  A **portfolio** is a collection $$\\Theta = (\\theta_1, \\ldots, \\theta_n)$$ of real numbers, where each $\\theta_i$ denotes the number of units of asset $a_i$ in the portfolio.  $\\theta_i$ is positive for a long position, negative for a short position."
   ]
  },
  {
   "cell_type": "markdown",
   "metadata": {},
   "source": [
    "The **total value** of a portfolio at time zero is $$V_0 = \\sum_{i=1}^n \\theta_i V_{i,0}.$$  The **weight** of the asset $a_k$ is the value of the asset at time zero relative to the portfolio value at time zero: $$w_i := \\frac{\\theta_k V_{k,0}}{V_0}.$$  This immediately leads to the constraint $w_1 + \\cdots + w_n = 1$."
   ]
  },
  {
   "cell_type": "markdown",
   "metadata": {},
   "source": [
    "###Returns\n",
    "\n",
    "The **return** on asset $a_i$ at time $T$ is the relative increase over its initial price.  We can think of the return $R_i$ as defined implicity by the relation $$V_{i,T} = V_{i,0} (1 + R_i).$$  Stated more directly, we have $$R_i = \\frac{V_{i,T} - V_{i,0}}{V_{i,0}}.$$\n",
    "\n",
    "Since the value $V_{i,t}$ of the asset $a_i$ is a random variable, then the return $R_i$ on the asset is itself a random variable.  We may therefore speak of the **expected return** on asset $a_i$: $$\\mu_i := \\mathbb{E}[R_i].$$\n",
    "\n",
    "Moreover this random variable will have some variance: $$\\sigma^2 := \\text{Var}[R_i],$$ which we call the **risk** associated with the asset $a_i$."
   ]
  },
  {
   "cell_type": "code",
   "execution_count": null,
   "metadata": {
    "collapsed": true
   },
   "outputs": [],
   "source": []
  }
 ],
 "metadata": {
  "kernelspec": {
   "display_name": "Python 3",
   "language": "python",
   "name": "python3"
  },
  "language_info": {
   "codemirror_mode": {
    "name": "ipython",
    "version": 3
   },
   "file_extension": ".py",
   "mimetype": "text/x-python",
   "name": "python",
   "nbconvert_exporter": "python",
   "pygments_lexer": "ipython3",
   "version": "3.4.1"
  }
 },
 "nbformat": 4,
 "nbformat_minor": 0
}
